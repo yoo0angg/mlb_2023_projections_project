{
 "cells": [
  {
   "cell_type": "code",
   "execution_count": null,
   "metadata": {},
   "outputs": [],
   "source": [
    "import pandas as pd\n",
    "import numpy as np\n",
    "import matplotlib.pyplot as plt\n",
    "\n",
    "##Importing data\n",
    "\n",
    "atc = pd.read_csv('fangraphs_bats_atc.csv')\n",
    "steamer = pd.read_csv('fangraphs_bats_steamer.csv')\n",
    "thebat = pd.read_csv('fangraphs_bats_thebat.csv')\n",
    "thebatx = pd.read_csv('fangraphs_bats_thebatx.csv')"
   ]
  },
  {
   "cell_type": "code",
   "execution_count": null,
   "metadata": {},
   "outputs": [],
   "source": [
    "## Merging dataframes together to create one data frame\n",
    "new_df = atc.merge(steamer, how='outer', on='id', suffixes=('_x', '_y'))\n",
    "new_df = new_df.merge(thebat, how='outer', on='id', suffixes=('_z'))\n",
    "new_df = new_df.merge(thebatx, how='outer', on='id', suffixes=('_z'))\n",
    "new_df"
   ]
  },
  {
   "cell_type": "code",
   "execution_count": null,
   "metadata": {},
   "outputs": [],
   "source": [
    "## Dropping null and duplicate values\n",
    "new_df = new_df.dropna()\n",
    "new_df.drop_duplicates(subset=['id'], keep='first', inplace=True)\n",
    "\n",
    "## Taking the merged dataframes and getting the average result for each player and category\n",
    "\n",
    "## Creating get average function\n",
    "def get_average(df, col_name, new_col_name):\n",
    "    \"\"\"\n",
    "    Adds a new column to a pandas DataFrame containing the average of specified columns.\n",
    "    \n",
    "    Args:\n",
    "    df (pandas.DataFrame): The DataFrame to modify.\n",
    "    col_name(s) (list of str): The names of the columns to average.\n",
    "    new_col_name (str): The name of the new column to create.\n",
    "    \n",
    "    Returns:\n",
    "    None (modifies df in place).\n",
    "    \"\"\"\n",
    "    avg_col = df[col_name].mean(axis=1)\n",
    "    df[new_col_name] = avg_col\n",
    "\n",
    "##Executing average functions\n",
    "get_average(new_df, ['G_x', 'G_y', 'G_', 'Gz'], 'New_G')\n",
    "get_average(new_df, ['AB_x', 'AB_y', 'AB_', 'ABz'], 'New_AB')\n",
    "get_average(new_df, ['PA_x', 'PA_y'], 'New_PA') ## Two files missing the PA column\n",
    "get_average(new_df, ['H_x', 'H_y', 'H_', 'Hz'], 'New_H')\n",
    "get_average(new_df, ['2B_x', '2B_y', '2B_', '2Bz'], 'New_2B')\n",
    "get_average(new_df, ['3B_x', '3B_y', '3B_', '3Bz'], 'New_3B')\n",
    "get_average(new_df, ['HR_x', 'HR_y', 'HR_', 'HRz'], 'New_HR')\n",
    "get_average(new_df, ['R_x', 'R_y', 'R_', 'Rz'], 'New_R')\n",
    "get_average(new_df, ['RBI_x', 'RBI_y', 'RBI_', 'RBIz'], 'New_RBI')\n",
    "get_average(new_df, ['BB_x', 'BB_y', 'BB_', 'BBz'], 'New_BB')\n",
    "get_average(new_df, ['SO_x', 'SO_y', 'SO_', 'SOz'], 'New_SO')\n",
    "get_average(new_df, ['SB_x', 'SB_y', 'SB_', 'SBz'], 'New_SB')\n",
    "get_average(new_df, ['AVG_x', 'AVG_y', 'AVG_', 'AVGz'], 'New_AVG')\n",
    "get_average(new_df, ['K%_x', 'K%_y', 'K%_', 'K%z'], 'New_K%')\n",
    "get_average(new_df, ['ADP_x', 'ADP_y', 'ADP_', 'ADPz'], 'New_ADP')\n",
    "\n",
    "## Dropping the columns we just used to get the averages\n",
    "new_df = new_df.drop(columns=['G_x', 'AB_x', 'PA_x', 'H_x', '2B_x', '3B_x', 'HR_x',\n",
    "       'R_x', 'RBI_x', 'BB_x', 'SO_x', 'SB_x', 'AVG_x', 'K%_x', 'ADP_x',\n",
    "       'PlayerName_y', 'G_y', 'AB_y', 'PA_y', 'H_y', '2B_y', '3B_y', 'HR_y',\n",
    "       'R_y', 'RBI_y', 'BB_y', 'SO_y', 'SB_y', 'AVG_y', 'K%_y', 'ADP_y',\n",
    "       'PlayerName_', 'G_', 'AB_', 'H_', '2B_', '3B_', 'HR_', 'R_', 'RBI_',\n",
    "       'BB_', 'SO_', 'SB_', 'AVG_', 'K%_', 'PlayerNamez', 'Gz', 'ABz',\n",
    "       'Hz', '2Bz', '3Bz', 'HRz', 'Rz', 'RBIz', 'BBz', 'SOz', 'SBz', 'AVGz',\n",
    "       'K%z', 'ADPz'])\n"
   ]
  },
  {
   "cell_type": "code",
   "execution_count": null,
   "metadata": {},
   "outputs": [],
   "source": [
    "##Creating rank functions\n",
    "\n",
    "def get_rank_desc(df, col_name, new_col_name):\n",
    "        \"\"\"\n",
    "    Adds a new column to a pandas DataFrame containing the rank of specified column in descnding order.\n",
    "    \n",
    "    Args:\n",
    "    df (pandas.DataFrame): The DataFrame to modify.\n",
    "    col_name(s) (list of str): The name of the column to rank.\n",
    "    new_col_name (str): The name of the new column to create.\n",
    "    \n",
    "    Returns:\n",
    "    None (modifies df in place).\n",
    "    \"\"\"\n",
    "    ## Uses the .rank function with asending false parameter\n",
    "    rank_col = df[col_name].rank(ascending=False)\n",
    "    df[new_col_name] = rank_col\n",
    "    \n",
    "def get_rank_asc(df, col_name, new_col_name):\n",
    "    \"\"\"\n",
    "    Adds a new column to a pandas DataFrame containing the rank of specified column in ascending order.\n",
    "    \n",
    "    Args:\n",
    "    df (pandas.DataFrame): The DataFrame to modify.\n",
    "    col_name(s) (list of str): The name of the column to rank.\n",
    "    new_col_name (str): The name of the new column to create.\n",
    "    \n",
    "    Returns:\n",
    "    None (modifies df in place).\n",
    "    \"\"\"\n",
    "    ## Uses the .rannk function with asending true parameter\n",
    "    rank_col = df[col_name].rank(ascending=True)\n",
    "    df[new_col_name] = rank_col\n",
    "\n",
    "## Executing desc rank functions\n",
    "get_rank_desc(new_df, 'New_H', 'Rank_H')\n",
    "get_rank_desc(new_df, 'New_2B', 'Rank_2B')\n",
    "get_rank_desc(new_df, 'New_HR', 'Rank_HR')\n",
    "get_rank_desc(new_df, 'New_RBI', 'Rank_RBI')\n",
    "get_rank_desc(new_df, 'New_BB', 'Rank_BB')\n",
    "get_rank_desc(new_df, 'New_SB', 'Rank_SB')\n",
    "get_rank_desc(new_df, 'New_AVG', 'Rank_AVG')\n",
    "get_rank_desc(new_df, 'New_R', 'Rank_R')\n",
    "## Executing asc rank functions\n",
    "get_rank_asc(new_df, 'New_K%', 'Rank_K%')\n",
    "## Using diffrent rank parameter for 3B to weight correctly\n",
    "new_df['Rank_3B'] = new_df['New_3B'].rank(ascending=False, method='min')\n",
    "\n",
    "new_df.head(20)"
   ]
  },
  {
   "cell_type": "code",
   "execution_count": null,
   "metadata": {},
   "outputs": [],
   "source": [
    "## Getting total rank from all categories and aggregating a total ranking\n",
    "\n",
    "new_df['Total_Rank'] = new_df[['Rank_H', 'Rank_2B', 'Rank_3B', 'Rank_HR', 'Rank_RBI', 'Rank_BB', 'Rank_SB', 'Rank_AVG', 'Rank_K%', 'Rank_R']].sum(axis=1)\n",
    "\n",
    "## Creating Rank column based on aggregated total rank scores\n",
    "new_df['Rank'] = new_df['Total_Rank'].rank(ascending=True)"
   ]
  },
  {
   "cell_type": "code",
   "execution_count": null,
   "metadata": {},
   "outputs": [],
   "source": [
    "##Exporting new datframe to csv\n",
    "new_df.to_csv('AngeloRankings.csv', encoding='utf-8')"
   ]
  }
 ],
 "metadata": {
  "kernelspec": {
   "display_name": ".venv",
   "language": "python",
   "name": "python3"
  },
  "language_info": {
   "codemirror_mode": {
    "name": "ipython",
    "version": 3
   },
   "file_extension": ".py",
   "mimetype": "text/x-python",
   "name": "python",
   "nbconvert_exporter": "python",
   "pygments_lexer": "ipython3",
   "version": "3.10.11"
  },
  "orig_nbformat": 4,
  "vscode": {
   "interpreter": {
    "hash": "3d683d6ba50b6d2a17d7556e38b577fcefe499a90e544f7696b4160f1bcc5b17"
   }
  }
 },
 "nbformat": 4,
 "nbformat_minor": 2
}
